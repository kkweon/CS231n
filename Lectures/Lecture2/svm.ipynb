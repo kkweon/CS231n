{
 "cells": [
  {
   "cell_type": "code",
   "execution_count": 1,
   "metadata": {
    "collapsed": false
   },
   "outputs": [],
   "source": [
    "import numpy as np\n",
    "from cifar10 import CIFAR10\n",
    "%matplotlib inline"
   ]
  },
  {
   "cell_type": "code",
   "execution_count": 2,
   "metadata": {
    "collapsed": true
   },
   "outputs": [],
   "source": [
    "CIFAR10_PATH = \"./cifar-10-batches-py/\""
   ]
  },
  {
   "cell_type": "code",
   "execution_count": 3,
   "metadata": {
    "collapsed": false
   },
   "outputs": [],
   "source": [
    "c10 = CIFAR10()"
   ]
  },
  {
   "cell_type": "code",
   "execution_count": 4,
   "metadata": {
    "collapsed": false
   },
   "outputs": [],
   "source": [
    "Xtr, Ytr, Xte, Yte = c10.load_CIFAR10(CIFAR10_PATH)"
   ]
  },
  {
   "cell_type": "code",
   "execution_count": 5,
   "metadata": {
    "collapsed": false
   },
   "outputs": [],
   "source": [
    "class SVM(object):\n",
    "    \n",
    "    def train(self, X, Y):\n",
    "        self.Xtr = X\n",
    "        self.Ytr = Y\n",
    "        \n",
    "    def predict(self, X):\n",
    "        pass\n",
    "    \n",
    "    def L_i(self, x, y, W):\n",
    "        \"\"\"\n",
    "        Unvectorized Version of Loss Function of SVM\n",
    "        x : column vectors (3073 x 1)\n",
    "        y : correct_class int i\n",
    "        W : the weight matrix (10 x 3073)\n",
    "        \"\"\"\n",
    "        delta = 1.0\n",
    "        scores = W.dot(x)\n",
    "        correct_class_score = socres[y]\n",
    "        D = W.shape[0]\n",
    "        loss_i = 0.0\n",
    "        \n",
    "        for j in range(D):\n",
    "            if j == y:\n",
    "                continue\n",
    "            \n",
    "            loss_i += max(0, scores[j] - correct_class_score + delta)\n",
    "            \n",
    "        return loss_i\n",
    "    \n",
    "    def L_i_vectorized(self, x, y, W):\n",
    "        \"\"\"\n",
    "        Vectorized Version of Loss Function of SVM\n",
    "        x : column vectors (3073 x 1)\n",
    "        y : correct class i\n",
    "        W : the weight matrix (10 x 3073)\n",
    "        \"\"\"\n",
    "        delta = 1.0\n",
    "        scores = W.dot(x)  # 10 x 1\n",
    "        margins = np.maximum(0, scores - scores[y] + delta)\n",
    "        margins[y] = 0\n",
    "        \n",
    "        loss_i = np.sum(margins)\n",
    "        \n",
    "        return loss_i\n",
    "    \n",
    "    def L(X, y, W):\n",
    "        \"\"\"\n",
    "        X : N x 3073\n",
    "        y : N X 1\n",
    "        W : 10 X 3073\n",
    "        Loss : N x 1\n",
    "        \"\"\"\n",
    "        # L(Wx1) + L(Wx2) + L(Wx3)\n",
    "        loss = 0.0\n",
    "        Losses = X.dot(W)\n",
    "        "
   ]
  },
  {
   "cell_type": "code",
   "execution_count": 6,
   "metadata": {
    "collapsed": false
   },
   "outputs": [
    {
     "name": "stdout",
     "output_type": "stream",
     "text": [
      "A:\n",
      "[[1 2]\n",
      " [3 4]]\n",
      "B:\n",
      "[[1 1]\n",
      " [2 2]\n",
      " [3 3]]\n"
     ]
    }
   ],
   "source": [
    "A = np.array([[1,2],[3,4]])\n",
    "B = np.array([[1,1],[2,2],[3,3]])\n",
    "print(\"A:\\n{}\".format(A))\n",
    "print(\"B:\\n{}\".format(B))"
   ]
  },
  {
   "cell_type": "code",
   "execution_count": 7,
   "metadata": {
    "collapsed": false
   },
   "outputs": [],
   "source": [
    "Y = [0, 1, 0]"
   ]
  },
  {
   "cell_type": "code",
   "execution_count": 8,
   "metadata": {
    "collapsed": false
   },
   "outputs": [],
   "source": [
    "# X = N * 3073\n",
    "# W = 10 * 3073\n",
    "# N * 3073   x  3072 * 10   =  N * 10"
   ]
  },
  {
   "cell_type": "code",
   "execution_count": 9,
   "metadata": {
    "collapsed": true
   },
   "outputs": [],
   "source": [
    "C = B.dot(A)"
   ]
  },
  {
   "cell_type": "code",
   "execution_count": null,
   "metadata": {
    "collapsed": true
   },
   "outputs": [],
   "source": []
  }
 ],
 "metadata": {
  "kernelspec": {
   "display_name": "Python 3",
   "language": "python",
   "name": "python3"
  },
  "language_info": {
   "codemirror_mode": {
    "name": "ipython",
    "version": 3
   },
   "file_extension": ".py",
   "mimetype": "text/x-python",
   "name": "python",
   "nbconvert_exporter": "python",
   "pygments_lexer": "ipython3",
   "version": "3.5.1"
  }
 },
 "nbformat": 4,
 "nbformat_minor": 0
}
